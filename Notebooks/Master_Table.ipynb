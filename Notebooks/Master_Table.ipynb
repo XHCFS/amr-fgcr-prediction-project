{
  "cells": [
    {
      "cell_type": "code",
      "execution_count": 1,
      "metadata": {
        "id": "gRsPnrL-h2a2"
      },
      "outputs": [],
      "source": [
        "from google.colab import drive\n",
        "import numpy as np\n",
        "import pandas as pd\n",
        "import numbers\n",
        "import re\n",
        "import os\n",
        "from functools import reduce"
      ]
    },
    {
      "cell_type": "code",
      "execution_count": 2,
      "metadata": {
        "colab": {
          "base_uri": "https://localhost:8080/"
        },
        "id": "lonGHShqh78m",
        "outputId": "da98c22e-0b97-4ba8-cd1e-1c7b919df9b3"
      },
      "outputs": [
        {
          "output_type": "stream",
          "name": "stdout",
          "text": [
            "Mounted at /content/drive\n",
            "/content/drive/My Drive/MRSA datasets\n"
          ]
        }
      ],
      "source": [
        "drive.mount('/content/drive')\n",
        "os.chdir('/content/drive/My Drive/MRSA datasets/')\n",
        "\n",
        "print(os.getcwd())"
      ]
    },
    {
      "cell_type": "markdown",
      "metadata": {
        "id": "yzZJvXqK-EsV"
      },
      "source": [
        "# Global variables"
      ]
    },
    {
      "cell_type": "code",
      "execution_count": 3,
      "metadata": {
        "id": "jo2pAnSTqUmu"
      },
      "outputs": [],
      "source": [
        "dataset_path = 'Datasets'\n",
        "labels_path = 'Data Labels'\n",
        "species = {'s.a': 'Staphylococcus aureus',\n",
        "           'e.c': 'Escherichia coli',\n",
        "           'a.b': 'Acinetobacter baumannii',\n",
        "           's.e': 'Salmonella enterica',\n",
        "           'm.t': 'Mycobacterium tuberculosis',\n",
        "           'k.p': 'Klebsiella pneumoniae'}\n",
        "\n",
        "# Staphylococcus aureus\n",
        "    # PRJNA633996\n",
        "Chinese_dataset = 'PRJNA633996'\n",
        "Chinese_labels_file_path = labels_path + '/' + 'PRJNA633996.xlsx'\n",
        "\n",
        "    # PATRIC_genomes\n",
        "patric_sa_dataset = 'PATRIC_genomes'\n",
        "patric_sa_labels_file_path = labels_path + '/' + 'PATRIC_s.aureus.csv'\n",
        "\n",
        "# Acinetobacter baumannii\n",
        "    # PRJNA1014981\n",
        "a_dataset_1 = 'PRJNA1014981'\n",
        "a_d1_labels_file_path  = labels_path + '/' + 'PRJNA1014981_labels.csv'\n",
        "\n",
        "# Salmonella enterica\n",
        "    # PRJNA292666_PRJNA292661\n",
        "s_dataset = 'PRJNA292666 & PRJNA292661'\n",
        "s_labels_file_path  = labels_path + '/' + 'PRJNA292666_PRJNA292661_labels.xlsx'\n",
        "\n",
        "# Mycobacterium tuberculosis\n",
        "    # PRJNA343736\n",
        "t_dataset = 'PRJNA343736'\n",
        "t_labels_file_path  = labels_path + '/' + 'PRJNA343736_labels.csv'\n",
        "\n",
        "# Escherichia coli\n",
        "    # PATRIC_e.coli\n",
        "e_dataset = 'PATRIC_e.coli'\n",
        "e_labels_file_path = labels_path + '/' + 'PATRIC_e.coli.xlsx'\n",
        "\n",
        "# Klebsiella pneumoniae\n",
        "    # PATRIC_klebsiella\n",
        "k_dataset = 'PATRIC_klebsiella'\n",
        "k_labels_file_path = labels_path + '/' + 'PATRIC_klebsiella.xlsx'"
      ]
    },
    {
      "cell_type": "code",
      "execution_count": 4,
      "metadata": {
        "id": "PPfiwB738gdV"
      },
      "outputs": [],
      "source": [
        "get_path = lambda df: dataset_path + '/' + df['Species'] + '/' + df['Dataset'] + '/' + df['File Name']\n",
        "get_name = lambda a: str(a) + '.fna'\n",
        "# extract_int = lambda a: list(map(int, re.findall(r'\\d+', a)))[0]\n",
        "def extract_float(string):\n",
        "    a = list(map(float, re.findall(r'\\d*\\.\\d+|\\d+', str(string))))\n",
        "    return a[0] if a else np.nan"
      ]
    },
    {
      "cell_type": "markdown",
      "metadata": {
        "id": "ndzY5igQb_Mc"
      },
      "source": [
        "# Staphylococcus aureus"
      ]
    },
    {
      "cell_type": "markdown",
      "metadata": {
        "id": "7hXAThS790tV"
      },
      "source": [
        "## Chinese Dataset"
      ]
    },
    {
      "cell_type": "code",
      "execution_count": 5,
      "metadata": {
        "id": "MGjb8cV24Hzc"
      },
      "outputs": [],
      "source": [
        "def getChineseLabels(file_path):\n",
        "    # load labels from excel file\n",
        "    df = pd.read_excel(Chinese_labels_file_path)\n",
        "    # add file name and dataset\n",
        "    df['File Name'] = df['Sample ID'].apply(get_name)\n",
        "    df['Dataset'] = Chinese_dataset\n",
        "    df.drop('Sample ID', inplace=True, axis=1)\n",
        "    # move file name and dataset to be the first column\n",
        "    temp = df.pop('File Name')\n",
        "    df.insert(0, 'File Name', temp)\n",
        "    temp = df.pop('Dataset')\n",
        "    df.insert(0, 'Dataset', temp)\n",
        "    df.insert(0, 'Species', species['s.a'])\n",
        "    # include files that are found on drive only\n",
        "    df = df[df.apply(get_path, axis=1).apply(os.path.isfile)]\n",
        "    return df"
      ]
    },
    {
      "cell_type": "code",
      "execution_count": 6,
      "metadata": {
        "id": "ZmJDHeCa81FN"
      },
      "outputs": [],
      "source": [
        "Chinese_df = getChineseLabels(Chinese_labels_file_path)"
      ]
    },
    {
      "cell_type": "markdown",
      "metadata": {
        "id": "EyUgCNYgLhMo"
      },
      "source": [
        "## Patric"
      ]
    },
    {
      "cell_type": "code",
      "execution_count": 7,
      "metadata": {
        "id": "oktbQE3eTU7m"
      },
      "outputs": [],
      "source": [
        "def get_patric_labels():\n",
        "    # load labels from excel file\n",
        "    df = pd.read_csv(patric_sa_labels_file_path)\n",
        "    df = df.drop(['bacteria_species_general'], axis=1)\n",
        "    # add filename, species and dataset and drop sample ID\n",
        "    df['File Name'] = df['genome_id'].apply(get_name)\n",
        "    df.drop('genome_id', inplace=True, axis=1)\n",
        "    df['Dataset'] = patric_sa_dataset\n",
        "    # reorder and add species\n",
        "    cols = df.columns.tolist()\n",
        "    new_order = ['Dataset', 'File Name'] + [col for col in cols if col not in ['File Name', 'Dataset']]\n",
        "    df = df[new_order]\n",
        "    df.insert(0, 'Species', species['s.a'])\n",
        "    # map values tp R and S\n",
        "    for i in df.columns[3:]:\n",
        "        df[i] = df[i].map({1: 'R', 0: 'S'})\n",
        "    df = df[df.apply(get_path, axis=1).apply(os.path.isfile)]\n",
        "    return df"
      ]
    },
    {
      "cell_type": "code",
      "execution_count": 8,
      "metadata": {
        "id": "itCJPdAeXBmu"
      },
      "outputs": [],
      "source": [
        "patri_sa_df = get_patric_labels()"
      ]
    },
    {
      "cell_type": "markdown",
      "metadata": {
        "id": "HT5qO03UcC7M"
      },
      "source": [
        "# Acinetobacter baumannii"
      ]
    },
    {
      "cell_type": "code",
      "execution_count": 9,
      "metadata": {
        "id": "cN52QT38caO8"
      },
      "outputs": [],
      "source": [
        "def get_acinetobacter_labels():\n",
        "    df = pd.read_csv(a_d1_labels_file_path)\n",
        "    df.columns = df.iloc[0]\n",
        "    df = df[1:].reset_index(drop=True)\n",
        "    # add filename, species and dataset and drop sample ID\n",
        "    df['File Name'] = df['ID'].apply(get_name)\n",
        "    df['Dataset'] = a_dataset_1\n",
        "\n",
        "    cols = df.columns.tolist()\n",
        "    new_order = ['Dataset', 'File Name'] + [col for col in cols if col not in ['File Name', 'Dataset']]\n",
        "    df = df[new_order]\n",
        "    df.insert(0, 'Species', species['a.b'])\n",
        "    df.drop('ID', inplace=True, axis=1)\n",
        "    df = df.replace({ 'NaN': np.nan})\n",
        "    df = df[df.apply(get_path, axis=1).apply(os.path.isfile)]\n",
        "    return df"
      ]
    },
    {
      "cell_type": "code",
      "execution_count": 10,
      "metadata": {
        "id": "0pL1kYkbclHc"
      },
      "outputs": [],
      "source": [
        "a_df = get_acinetobacter_labels()"
      ]
    },
    {
      "cell_type": "markdown",
      "metadata": {
        "id": "3fX3mo_ucKUc"
      },
      "source": [
        "# Salmonella enterica"
      ]
    },
    {
      "cell_type": "code",
      "execution_count": 11,
      "metadata": {
        "id": "3z1kWb0OIUwM"
      },
      "outputs": [],
      "source": [
        "extract_int = lambda a: list(map(int, re.findall(r'\\d+', a)))[0]\n",
        "drus_map = {'AMP': 'Ampicillin',\n",
        "            'AUG': 'Amoxicillin-Clavulanic acid',\n",
        "            'AXO': 'Ceftriaxone',\n",
        "            'AZI': 'Azithromycin',\n",
        "            'CHL': 'Chloramphenicol',\n",
        "            'CIP': 'Ciprofloxacin',\n",
        "            'COT': 'Trimethoprim-Sulfamethoxazole',\n",
        "            'FIS': 'Sulfisoxazole',\n",
        "            'FOX': 'Cefoxitin',\n",
        "            'GEN': 'Gentamicin',\n",
        "            'KAN': 'Kanamycin',\n",
        "            'NAL': 'Nalidixic acid',\n",
        "            'STR': 'Streptomycin',\n",
        "            'TET': 'Tetracycline',\n",
        "            'TIO': 'Ceftiofur'}\n",
        "\n",
        "MIC_breakpoints = {'Ampicillin': {'R': 32, 'I': 16, 'S': 8},\n",
        "                   'Amoxicillin-Clavulanic acid': {'R': 32, 'I': 16, 'S': 8},\n",
        "                   'Ceftriaxone': {'R': 32, 'I': 16, 'S': 8},\n",
        "                   'Azithromycin': {'R': 32, 'I': np.nan, 'S': 16},\n",
        "                   'Chloramphenicol': {'R': 32, 'I': 16, 'S': 8},\n",
        "                   'Ciprofloxacin': {'R': 1, 'I': 0.12, 'S': 0.06},\n",
        "                   'Trimethoprim-Sulfamethoxazole': {'R': 4, 'I': np.nan, 'S': 2},\n",
        "                   'Sulfisoxazole': {'R': 512, 'I': np.nan, 'S': 256},\n",
        "                   'Cefoxitin': {'R': 32, 'I': 16, 'S': 8},\n",
        "                   'Gentamicin': {'R': 8, 'I': 4, 'S': 2},\n",
        "                   'Kanamycin': {'R': 64, 'I': 32, 'S': 16},\n",
        "                   'Nalidixic acid': {'R': 32, 'I': np.nan, 'S': 16},\n",
        "                   'Streptomycin': {'R': 32, 'I': np.nan, 'S': 16},\n",
        "                   'Tetracycline': {'R': 16, 'I': 8, 'S': 4},\n",
        "                   'Ceftiofur': {'R': 8, 'I': 4, 'S': 2}}\n",
        "\n",
        "def map_MIC(val, map):\n",
        "    if pd.isna(val):\n",
        "        return np.nan\n",
        "    if val <= map['S']:\n",
        "        return 'S'\n",
        "    if val >= map['R']:\n",
        "        return 'R'\n",
        "    return 'I'\n",
        "\n",
        "def print_unique_values(df):\n",
        "    unique_per_column = {col: df[col].unique() for col in df.loc[ : , df.columns != 'SRA Run Accession']}\n",
        "    for col, uniques in unique_per_column.items():\n",
        "        print(f\"{col: <30}: {uniques}\")"
      ]
    },
    {
      "cell_type": "code",
      "execution_count": 12,
      "metadata": {
        "id": "Yh2GuyIV510_"
      },
      "outputs": [],
      "source": [
        "def get_salmonella_labels():\n",
        "    df = pd.read_excel(s_labels_file_path)\n",
        "    df = df.pivot(index='SRA Run Accession', columns='Antibiotic', values='Laboratory-derived MIC').reset_index()\n",
        "    df.rename(columns=drus_map, inplace=True)\n",
        "    df.loc[ : , df.columns != 'SRA Run Accession'] = df.loc[ : , df.columns != 'SRA Run Accession'].map(extract_float)\n",
        "    for c in df.loc[ : , df.columns != 'SRA Run Accession'].columns:\n",
        "        df[c] = df[c].apply(lambda x: map_MIC(x, MIC_breakpoints[c]))\n",
        "\n",
        "    df['File Name'] = df['SRA Run Accession'].apply(get_name)\n",
        "    df['Dataset'] = s_dataset\n",
        "    cols = df.columns.tolist()\n",
        "    new_order = ['Dataset', 'File Name'] + [col for col in cols if col not in ['File Name', 'Dataset']]\n",
        "    df = df[new_order]\n",
        "    df.insert(0, 'Species', species['s.e'])\n",
        "    df.drop('SRA Run Accession', inplace=True, axis=1)\n",
        "    df = df[df.apply(get_path, axis=1).apply(os.path.isfile)]\n",
        "    return df"
      ]
    },
    {
      "cell_type": "code",
      "execution_count": 13,
      "metadata": {
        "id": "MpLm0LPof3TB"
      },
      "outputs": [],
      "source": [
        "s_df = get_salmonella_labels()"
      ]
    },
    {
      "cell_type": "markdown",
      "metadata": {
        "id": "_IsQYx9KcNV7"
      },
      "source": [
        "# Escherichia coli"
      ]
    },
    {
      "cell_type": "code",
      "execution_count": 14,
      "metadata": {
        "id": "Igh9SS54jjur"
      },
      "outputs": [],
      "source": [
        "def get_E_coli_labels():\n",
        "    # load labels from excel file\n",
        "    df = pd.read_excel(e_labels_file_path)\n",
        "    df = df.loc[1:]\n",
        "    df.drop(['Genome Quality', 'Genome Status', 'Contigs',\n",
        "            'Typing method', 'Testing standard', 'Country',\n",
        "            'Host', 'Unnamed: 20', 'Total Isolates'], axis = 1, inplace = True)\n",
        "    # add filename, species and dataset and drop sample ID\n",
        "    df['File Name'] = df['Genome ID'].apply(get_name)\n",
        "    df.drop('Genome ID', inplace=True, axis=1)\n",
        "    df['Dataset'] = e_dataset\n",
        "    # reorder and add species\n",
        "    cols = df.columns.tolist()\n",
        "    new_order = ['Dataset', 'File Name'] + [col for col in cols if col not in ['File Name', 'Dataset']]\n",
        "    df = df[new_order]\n",
        "    df.insert(0, 'Species', species['e.c'])\n",
        "    for i in df.columns[3:]:\n",
        "        df[i] = df[i].map({'Resistant': 'R', 'Susceptible': 'S', '-': np.nan})\n",
        "    df = df[df.apply(get_path, axis=1).apply(os.path.isfile)]\n",
        "    return df"
      ]
    },
    {
      "cell_type": "code",
      "execution_count": 15,
      "metadata": {
        "id": "ylhfLhuyjyk0"
      },
      "outputs": [],
      "source": [
        "e_df = get_E_coli_labels()"
      ]
    },
    {
      "cell_type": "markdown",
      "metadata": {
        "id": "LaCVqADMZO4s"
      },
      "source": [
        "# Mycobacterium tuberculosis"
      ]
    },
    {
      "cell_type": "code",
      "execution_count": 16,
      "metadata": {
        "id": "A-7vWdCGcXrs"
      },
      "outputs": [],
      "source": [
        "def get_tuberculosis_labels():\n",
        "    df = pd.read_csv(t_labels_file_path, low_memory = False)\n",
        "    df = df.drop(['index', 'Isolate', 'run',\n",
        "                  'run_combined', 'bioproject',\n",
        "                  'biosample', 'internal', 'path',\n",
        "                  'Isolate_original', 'category',\n",
        "                  'PARA_AMINOSALICYLIC_ACID', 'OXIFLOXACIN',\n",
        "                  'LINEZOLID', 'IMIPENEM', 'ETHIOMIDE'], axis=1)\n",
        "    df['File Name'] = df['accessions'].apply(get_name)\n",
        "    df.drop('accessions', inplace=True, axis=1)\n",
        "    df['Dataset'] = t_dataset\n",
        "\n",
        "    cols = df.columns.tolist()\n",
        "    new_order = ['Dataset', 'File Name'] + [col for col in cols if col not in ['File Name', 'Dataset']]\n",
        "    df = df[new_order]\n",
        "    df.insert(0, 'Species', species['m.t'])\n",
        "    df = df[df.apply(get_path, axis=1).apply(os.path.isfile)]\n",
        "    return df"
      ]
    },
    {
      "cell_type": "code",
      "execution_count": 17,
      "metadata": {
        "id": "zkgkcl2reLbF"
      },
      "outputs": [],
      "source": [
        "t_df = get_tuberculosis_labels()"
      ]
    },
    {
      "cell_type": "markdown",
      "metadata": {
        "id": "kARtM4fUKGa4"
      },
      "source": [
        "# Klebsiella pneumoniae"
      ]
    },
    {
      "cell_type": "code",
      "execution_count": 18,
      "metadata": {
        "id": "1DD-F3lOKO-Q"
      },
      "outputs": [],
      "source": [
        "def get_patric_labels():\n",
        "    # load labels from excel file\n",
        "    df = pd.read_csv(patric_sa_labels_file_path)\n",
        "    df = df.drop(['bacteria_species_general'], axis=1)\n",
        "    # add filename, species and dataset and drop sample ID\n",
        "    df['File Name'] = df['genome_id'].apply(get_name)\n",
        "    df.drop('genome_id', inplace=True, axis=1)\n",
        "    df['Dataset'] = patric_sa_dataset\n",
        "    # reorder and add species\n",
        "    cols = df.columns.tolist()\n",
        "    new_order = ['Dataset', 'File Name'] + [col for col in cols if col not in ['File Name', 'Dataset']]\n",
        "    df = df[new_order]\n",
        "    df.insert(0, 'Species', species['s.a'])\n",
        "    # map values tp R and S\n",
        "    for i in df.columns[3:]:\n",
        "        df[i] = df[i].map({1: 'R', 0: 'S'})\n",
        "    df = df[df.apply(get_path, axis=1).apply(os.path.isfile)]\n",
        "    return df"
      ]
    },
    {
      "cell_type": "code",
      "execution_count": 19,
      "metadata": {
        "id": "po62sME_TMjd"
      },
      "outputs": [],
      "source": [
        "MIC_breakpoints = {'Piperacillin-Tazobactam': {'R': 32, 'I': 16, 'S': 8},\n",
        "                   'Ciprofloxacin': {'R': 1, 'I': np.nan, 'S': 0.25},\n",
        "                   'Gentamicin': {'R': 8, 'I': 4, 'S': 2},\n",
        "                   'Meropenem': {'R': 4, 'I': np.nan, 'S': 1}}"
      ]
    },
    {
      "cell_type": "code",
      "execution_count": 20,
      "metadata": {
        "id": "BPCBYwMgKPhg"
      },
      "outputs": [],
      "source": [
        "def get_klebsiella_labels():\n",
        "    # load labels from excel file\n",
        "    file = pd.ExcelFile(k_labels_file_path)\n",
        "    # merge sheets into 1 dataframe and rename columns\n",
        "    dfs = []\n",
        "    for drug in file.sheet_names:\n",
        "      df = pd.read_excel(file, sheet_name = drug)\n",
        "      df = df.rename(columns={'MIC': drug})\n",
        "      dfs.append(df)\n",
        "    df = reduce(lambda left, right: pd.merge(left, right, on='Genome_ID', how='outer'), dfs)\n",
        "    # map MIC values\n",
        "    df.columns = [c.split(' ')[0] for c in df.columns]\n",
        "    for c in df.loc[ : , df.columns != 'Genome_ID'].columns:\n",
        "          df[c] = df[c].apply(lambda x: map_MIC(x, MIC_breakpoints[c]))\n",
        "    # add filename, species and dataset and drop sample ID\n",
        "    df['File Name'] = df['Genome_ID'].apply(get_name)\n",
        "    df.drop('Genome_ID', inplace=True, axis=1)\n",
        "    df['Dataset'] = k_dataset\n",
        "    # reorder and add species\n",
        "    cols = df.columns.tolist()\n",
        "    new_order = ['Dataset', 'File Name'] + [col for col in cols if col not in ['File Name', 'Dataset']]\n",
        "    df = df[new_order]\n",
        "    df.insert(0, 'Species', species['k.p'])\n",
        "    df = df[df.apply(get_path, axis=1).apply(os.path.isfile)]\n",
        "    return df"
      ]
    },
    {
      "cell_type": "code",
      "execution_count": 21,
      "metadata": {
        "id": "1E4DlhVcTUsl"
      },
      "outputs": [],
      "source": [
        "k_df = get_klebsiella_labels()"
      ]
    },
    {
      "cell_type": "markdown",
      "metadata": {
        "id": "REt6dLkNcAmI"
      },
      "source": [
        "# Exporting csv"
      ]
    },
    {
      "cell_type": "code",
      "execution_count": 22,
      "metadata": {
        "id": "gaXUIE7dcDVw"
      },
      "outputs": [],
      "source": [
        "df = pd.concat([Chinese_df, patri_sa_df, a_df, s_df, t_df, e_df, k_df], ignore_index=True)"
      ]
    },
    {
      "cell_type": "code",
      "execution_count": 24,
      "metadata": {
        "id": "2taea8NBrRmc"
      },
      "outputs": [],
      "source": [
        "col_order = ['Species', 'Dataset', 'File Name',\n",
        "    'Streptomycin', 'Vancomycin', 'Ceftriaxone',\n",
        "    'Oxacillin', 'Clindamycin', 'Fusidic acid', 'Erythromycin',\n",
        "    'Linezolid', 'Methicillin', 'Gentamicin', 'Trimethoprim-Sulfamethoxazole',\n",
        "    'Ciprofloxacin', 'Tetracycline',\n",
        "    'Chloramphenicol', 'Penicillin', 'Trimethoprim',\n",
        "    'Daptomycin', 'Cefoxitin', 'Amikacin', 'Ampicillin-Sulbactam', 'Cefepime',\n",
        "    'Cefotaxime', 'Ceftazidime', 'Colistin', 'Doripenem', 'Imipenem',\n",
        "    'Levofloxacin', 'Meropenem', 'Minocycline', 'Moxifloxacin', 'Polymyxin_B',\n",
        "    'Tigecycline', 'Tobramycin', 'Ampicillin', 'Amoxicillin-Clavulanic acid', 'Azithromycin',\n",
        "    'Sulfisoxazole', 'Kanamycin', 'Nalidixic acid', 'Ceftiofur', 'Amoxicillin',\n",
        "    'Capreomycin', 'Clarithromycin', 'Clofazimine', 'Cycloserine', 'Ethambutol',\n",
        "    'Ethionamide', 'Gatifloxacin', 'Isoniazid', 'Nicotinamide', 'Ofloxacin',\n",
        "    'para-aminosalicylic acid', 'Prothionamide', 'Pyrazinamide', 'Rifabutin', 'Rifampicin',\n",
        "    'Aztreonam', 'Cefuroxime', 'Piperacillin-Tazobactam'\n",
        "]\n",
        "\n",
        "df = df[col_order]"
      ]
    },
    {
      "cell_type": "code",
      "execution_count": 25,
      "metadata": {
        "colab": {
          "base_uri": "https://localhost:8080/"
        },
        "id": "ZbARA8ynSvli",
        "outputId": "35a981b1-ba8d-465f-d796-48cea5d69799"
      },
      "outputs": [
        {
          "output_type": "stream",
          "name": "stdout",
          "text": [
            "Species                        Samples   \n",
            "----------------------------------------\n",
            "Staphylococcus aureus          5929    \n",
            "Escherichia coli               3112    \n",
            "Acinetobacter baumannii        859     \n",
            "Salmonella enterica            5084    \n",
            "Mycobacterium tuberculosis     3523    \n",
            "Klebsiella pneumoniae          1556    \n",
            "----------------------------------------\n",
            "Total                          20063     \n"
          ]
        }
      ],
      "source": [
        "print(f\"{'Species':<30} {'Samples':<10}\")\n",
        "print('-'*40)\n",
        "for key in species:\n",
        "    print(f\"{species[key]:<30} {len(df[df['Species'] == species[key]]):<8.0f}\")\n",
        "print('-'*40)\n",
        "print(f\"{'Total':<30} {len(df):<10}\")"
      ]
    },
    {
      "cell_type": "code",
      "execution_count": null,
      "metadata": {
        "id": "o3n7gpdmcHDh"
      },
      "outputs": [],
      "source": [
        "master_table_dir = 'Tables/Master_Table.csv'\n",
        "df.to_csv(master_table_dir, index=False, sep=',', header=True, na_rep='N/A')"
      ]
    }
  ],
  "metadata": {
    "colab": {
      "collapsed_sections": [
        "yzZJvXqK-EsV",
        "ndzY5igQb_Mc",
        "v62O1oQ7RjH4",
        "7hXAThS790tV",
        "EyUgCNYgLhMo",
        "HT5qO03UcC7M",
        "3fX3mo_ucKUc",
        "_IsQYx9KcNV7",
        "LaCVqADMZO4s",
        "kARtM4fUKGa4",
        "REt6dLkNcAmI"
      ],
      "provenance": []
    },
    "kernelspec": {
      "display_name": "Python 3",
      "name": "python3"
    },
    "language_info": {
      "name": "python"
    }
  },
  "nbformat": 4,
  "nbformat_minor": 0
}